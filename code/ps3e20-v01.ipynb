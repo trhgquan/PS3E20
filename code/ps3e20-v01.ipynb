{
 "cells": [
  {
   "cell_type": "code",
   "execution_count": 1,
   "id": "1aead4aa",
   "metadata": {
    "_cell_guid": "b1076dfc-b9ad-4769-8c92-a6c4dae69d19",
    "_uuid": "8f2839f25d086af736a60e9eeb907d3b93b6e0e5",
    "execution": {
     "iopub.execute_input": "2023-08-06T04:03:30.082135Z",
     "iopub.status.busy": "2023-08-06T04:03:30.081808Z",
     "iopub.status.idle": "2023-08-06T04:03:30.093318Z",
     "shell.execute_reply": "2023-08-06T04:03:30.092234Z"
    },
    "papermill": {
     "duration": 0.023803,
     "end_time": "2023-08-06T04:03:30.095197",
     "exception": false,
     "start_time": "2023-08-06T04:03:30.071394",
     "status": "completed"
    },
    "tags": []
   },
   "outputs": [
    {
     "name": "stdout",
     "output_type": "stream",
     "text": [
      "/kaggle/input/playground-series-s3e20/sample_submission.csv\n",
      "/kaggle/input/playground-series-s3e20/train.csv\n",
      "/kaggle/input/playground-series-s3e20/test.csv\n"
     ]
    }
   ],
   "source": [
    "# This Python 3 environment comes with many helpful analytics libraries installed\n",
    "# It is defined by the kaggle/python Docker image: https://github.com/kaggle/docker-python\n",
    "# For example, here's several helpful packages to load\n",
    "\n",
    "import numpy as np # linear algebra\n",
    "import pandas as pd # data processing, CSV file I/O (e.g. pd.read_csv)\n",
    "\n",
    "# Input data files are available in the read-only \"../input/\" directory\n",
    "# For example, running this (by clicking run or pressing Shift+Enter) will list all files under the input directory\n",
    "\n",
    "import os\n",
    "for dirname, _, filenames in os.walk('/kaggle/input'):\n",
    "    for filename in filenames:\n",
    "        print(os.path.join(dirname, filename))\n",
    "\n",
    "# You can write up to 20GB to the current directory (/kaggle/working/) that gets preserved as output when you create a version using \"Save & Run All\" \n",
    "# You can also write temporary files to /kaggle/temp/, but they won't be saved outside of the current session"
   ]
  },
  {
   "cell_type": "code",
   "execution_count": 2,
   "id": "a81275e7",
   "metadata": {
    "execution": {
     "iopub.execute_input": "2023-08-06T04:03:30.110438Z",
     "iopub.status.busy": "2023-08-06T04:03:30.109788Z",
     "iopub.status.idle": "2023-08-06T04:03:31.232263Z",
     "shell.execute_reply": "2023-08-06T04:03:31.231381Z"
    },
    "papermill": {
     "duration": 1.132361,
     "end_time": "2023-08-06T04:03:31.234584",
     "exception": false,
     "start_time": "2023-08-06T04:03:30.102223",
     "status": "completed"
    },
    "tags": []
   },
   "outputs": [
    {
     "name": "stderr",
     "output_type": "stream",
     "text": [
      "/opt/conda/lib/python3.10/site-packages/scipy/__init__.py:146: UserWarning: A NumPy version >=1.16.5 and <1.23.0 is required for this version of SciPy (detected version 1.23.5\n",
      "  warnings.warn(f\"A NumPy version >={np_minversion} and <{np_maxversion}\"\n"
     ]
    }
   ],
   "source": [
    "import seaborn as sns\n",
    "import matplotlib.pyplot as plt"
   ]
  },
  {
   "cell_type": "code",
   "execution_count": 3,
   "id": "f6ff8e11",
   "metadata": {
    "execution": {
     "iopub.execute_input": "2023-08-06T04:03:31.249263Z",
     "iopub.status.busy": "2023-08-06T04:03:31.248997Z",
     "iopub.status.idle": "2023-08-06T04:03:33.294046Z",
     "shell.execute_reply": "2023-08-06T04:03:33.293123Z"
    },
    "papermill": {
     "duration": 2.054964,
     "end_time": "2023-08-06T04:03:33.296527",
     "exception": false,
     "start_time": "2023-08-06T04:03:31.241563",
     "status": "completed"
    },
    "tags": []
   },
   "outputs": [],
   "source": [
    "df = pd.read_csv(\"/kaggle/input/playground-series-s3e20/train.csv\")\n",
    "test_df = pd.read_csv(\"/kaggle/input/playground-series-s3e20/test.csv\")"
   ]
  },
  {
   "cell_type": "code",
   "execution_count": 4,
   "id": "3a3ab481",
   "metadata": {
    "execution": {
     "iopub.execute_input": "2023-08-06T04:03:33.311711Z",
     "iopub.status.busy": "2023-08-06T04:03:33.311361Z",
     "iopub.status.idle": "2023-08-06T04:03:33.319220Z",
     "shell.execute_reply": "2023-08-06T04:03:33.318318Z"
    },
    "papermill": {
     "duration": 0.017307,
     "end_time": "2023-08-06T04:03:33.320794",
     "exception": false,
     "start_time": "2023-08-06T04:03:33.303487",
     "status": "completed"
    },
    "tags": []
   },
   "outputs": [
    {
     "data": {
      "text/plain": [
       "Index(['ID_LAT_LON_YEAR_WEEK', 'latitude', 'longitude', 'year', 'week_no',\n",
       "       'SulphurDioxide_SO2_column_number_density',\n",
       "       'SulphurDioxide_SO2_column_number_density_amf',\n",
       "       'SulphurDioxide_SO2_slant_column_number_density',\n",
       "       'SulphurDioxide_cloud_fraction', 'SulphurDioxide_sensor_azimuth_angle',\n",
       "       'SulphurDioxide_sensor_zenith_angle',\n",
       "       'SulphurDioxide_solar_azimuth_angle',\n",
       "       'SulphurDioxide_solar_zenith_angle',\n",
       "       'SulphurDioxide_SO2_column_number_density_15km',\n",
       "       'CarbonMonoxide_CO_column_number_density',\n",
       "       'CarbonMonoxide_H2O_column_number_density',\n",
       "       'CarbonMonoxide_cloud_height', 'CarbonMonoxide_sensor_altitude',\n",
       "       'CarbonMonoxide_sensor_azimuth_angle',\n",
       "       'CarbonMonoxide_sensor_zenith_angle',\n",
       "       'CarbonMonoxide_solar_azimuth_angle',\n",
       "       'CarbonMonoxide_solar_zenith_angle',\n",
       "       'NitrogenDioxide_NO2_column_number_density',\n",
       "       'NitrogenDioxide_tropospheric_NO2_column_number_density',\n",
       "       'NitrogenDioxide_stratospheric_NO2_column_number_density',\n",
       "       'NitrogenDioxide_NO2_slant_column_number_density',\n",
       "       'NitrogenDioxide_tropopause_pressure',\n",
       "       'NitrogenDioxide_absorbing_aerosol_index',\n",
       "       'NitrogenDioxide_cloud_fraction', 'NitrogenDioxide_sensor_altitude',\n",
       "       'NitrogenDioxide_sensor_azimuth_angle',\n",
       "       'NitrogenDioxide_sensor_zenith_angle',\n",
       "       'NitrogenDioxide_solar_azimuth_angle',\n",
       "       'NitrogenDioxide_solar_zenith_angle',\n",
       "       'Formaldehyde_tropospheric_HCHO_column_number_density',\n",
       "       'Formaldehyde_tropospheric_HCHO_column_number_density_amf',\n",
       "       'Formaldehyde_HCHO_slant_column_number_density',\n",
       "       'Formaldehyde_cloud_fraction', 'Formaldehyde_solar_zenith_angle',\n",
       "       'Formaldehyde_solar_azimuth_angle', 'Formaldehyde_sensor_zenith_angle',\n",
       "       'Formaldehyde_sensor_azimuth_angle',\n",
       "       'UvAerosolIndex_absorbing_aerosol_index',\n",
       "       'UvAerosolIndex_sensor_altitude', 'UvAerosolIndex_sensor_azimuth_angle',\n",
       "       'UvAerosolIndex_sensor_zenith_angle',\n",
       "       'UvAerosolIndex_solar_azimuth_angle',\n",
       "       'UvAerosolIndex_solar_zenith_angle', 'Ozone_O3_column_number_density',\n",
       "       'Ozone_O3_column_number_density_amf',\n",
       "       'Ozone_O3_slant_column_number_density',\n",
       "       'Ozone_O3_effective_temperature', 'Ozone_cloud_fraction',\n",
       "       'Ozone_sensor_azimuth_angle', 'Ozone_sensor_zenith_angle',\n",
       "       'Ozone_solar_azimuth_angle', 'Ozone_solar_zenith_angle',\n",
       "       'UvAerosolLayerHeight_aerosol_height',\n",
       "       'UvAerosolLayerHeight_aerosol_pressure',\n",
       "       'UvAerosolLayerHeight_aerosol_optical_depth',\n",
       "       'UvAerosolLayerHeight_sensor_zenith_angle',\n",
       "       'UvAerosolLayerHeight_sensor_azimuth_angle',\n",
       "       'UvAerosolLayerHeight_solar_azimuth_angle',\n",
       "       'UvAerosolLayerHeight_solar_zenith_angle', 'Cloud_cloud_fraction',\n",
       "       'Cloud_cloud_top_pressure', 'Cloud_cloud_top_height',\n",
       "       'Cloud_cloud_base_pressure', 'Cloud_cloud_base_height',\n",
       "       'Cloud_cloud_optical_depth', 'Cloud_surface_albedo',\n",
       "       'Cloud_sensor_azimuth_angle', 'Cloud_sensor_zenith_angle',\n",
       "       'Cloud_solar_azimuth_angle', 'Cloud_solar_zenith_angle', 'emission'],\n",
       "      dtype='object')"
      ]
     },
     "execution_count": 4,
     "metadata": {},
     "output_type": "execute_result"
    }
   ],
   "source": [
    "df.columns"
   ]
  },
  {
   "cell_type": "code",
   "execution_count": 5,
   "id": "cc64777a",
   "metadata": {
    "execution": {
     "iopub.execute_input": "2023-08-06T04:03:33.335752Z",
     "iopub.status.busy": "2023-08-06T04:03:33.335429Z",
     "iopub.status.idle": "2023-08-06T04:03:33.702288Z",
     "shell.execute_reply": "2023-08-06T04:03:33.701123Z"
    },
    "papermill": {
     "duration": 0.376953,
     "end_time": "2023-08-06T04:03:33.704681",
     "exception": false,
     "start_time": "2023-08-06T04:03:33.327728",
     "status": "completed"
    },
    "tags": []
   },
   "outputs": [
    {
     "data": {
      "text/html": [
       "<div>\n",
       "<style scoped>\n",
       "    .dataframe tbody tr th:only-of-type {\n",
       "        vertical-align: middle;\n",
       "    }\n",
       "\n",
       "    .dataframe tbody tr th {\n",
       "        vertical-align: top;\n",
       "    }\n",
       "\n",
       "    .dataframe thead th {\n",
       "        text-align: right;\n",
       "    }\n",
       "</style>\n",
       "<table border=\"1\" class=\"dataframe\">\n",
       "  <thead>\n",
       "    <tr style=\"text-align: right;\">\n",
       "      <th></th>\n",
       "      <th>latitude</th>\n",
       "      <th>longitude</th>\n",
       "      <th>year</th>\n",
       "      <th>week_no</th>\n",
       "      <th>SulphurDioxide_SO2_column_number_density</th>\n",
       "      <th>SulphurDioxide_SO2_column_number_density_amf</th>\n",
       "      <th>SulphurDioxide_SO2_slant_column_number_density</th>\n",
       "      <th>SulphurDioxide_cloud_fraction</th>\n",
       "      <th>SulphurDioxide_sensor_azimuth_angle</th>\n",
       "      <th>SulphurDioxide_sensor_zenith_angle</th>\n",
       "      <th>...</th>\n",
       "      <th>Cloud_cloud_top_height</th>\n",
       "      <th>Cloud_cloud_base_pressure</th>\n",
       "      <th>Cloud_cloud_base_height</th>\n",
       "      <th>Cloud_cloud_optical_depth</th>\n",
       "      <th>Cloud_surface_albedo</th>\n",
       "      <th>Cloud_sensor_azimuth_angle</th>\n",
       "      <th>Cloud_sensor_zenith_angle</th>\n",
       "      <th>Cloud_solar_azimuth_angle</th>\n",
       "      <th>Cloud_solar_zenith_angle</th>\n",
       "      <th>emission</th>\n",
       "    </tr>\n",
       "  </thead>\n",
       "  <tbody>\n",
       "    <tr>\n",
       "      <th>count</th>\n",
       "      <td>79023.000000</td>\n",
       "      <td>79023.000000</td>\n",
       "      <td>79023.000000</td>\n",
       "      <td>79023.000000</td>\n",
       "      <td>64414.000000</td>\n",
       "      <td>64414.000000</td>\n",
       "      <td>64414.000000</td>\n",
       "      <td>64414.000000</td>\n",
       "      <td>64414.000000</td>\n",
       "      <td>64414.000000</td>\n",
       "      <td>...</td>\n",
       "      <td>78539.000000</td>\n",
       "      <td>78539.000000</td>\n",
       "      <td>78539.000000</td>\n",
       "      <td>78539.000000</td>\n",
       "      <td>78539.000000</td>\n",
       "      <td>78539.000000</td>\n",
       "      <td>78539.000000</td>\n",
       "      <td>78539.000000</td>\n",
       "      <td>78539.000000</td>\n",
       "      <td>79023.000000</td>\n",
       "    </tr>\n",
       "    <tr>\n",
       "      <th>mean</th>\n",
       "      <td>-1.891072</td>\n",
       "      <td>29.880155</td>\n",
       "      <td>2020.000000</td>\n",
       "      <td>26.000000</td>\n",
       "      <td>0.000048</td>\n",
       "      <td>0.834848</td>\n",
       "      <td>0.000035</td>\n",
       "      <td>0.158418</td>\n",
       "      <td>-7.925870</td>\n",
       "      <td>37.436189</td>\n",
       "      <td>...</td>\n",
       "      <td>5592.377478</td>\n",
       "      <td>59420.297456</td>\n",
       "      <td>4670.430869</td>\n",
       "      <td>19.139241</td>\n",
       "      <td>0.271460</td>\n",
       "      <td>-10.784832</td>\n",
       "      <td>40.436976</td>\n",
       "      <td>-86.800583</td>\n",
       "      <td>27.925981</td>\n",
       "      <td>81.940552</td>\n",
       "    </tr>\n",
       "    <tr>\n",
       "      <th>std</th>\n",
       "      <td>0.694522</td>\n",
       "      <td>0.810375</td>\n",
       "      <td>0.816502</td>\n",
       "      <td>15.297155</td>\n",
       "      <td>0.000272</td>\n",
       "      <td>0.185382</td>\n",
       "      <td>0.000206</td>\n",
       "      <td>0.071364</td>\n",
       "      <td>64.263368</td>\n",
       "      <td>14.149950</td>\n",
       "      <td>...</td>\n",
       "      <td>1428.503002</td>\n",
       "      <td>9051.163609</td>\n",
       "      <td>1359.251583</td>\n",
       "      <td>13.547047</td>\n",
       "      <td>0.049434</td>\n",
       "      <td>30.374462</td>\n",
       "      <td>6.428216</td>\n",
       "      <td>37.837269</td>\n",
       "      <td>4.403835</td>\n",
       "      <td>144.299648</td>\n",
       "    </tr>\n",
       "    <tr>\n",
       "      <th>min</th>\n",
       "      <td>-3.299000</td>\n",
       "      <td>28.228000</td>\n",
       "      <td>2019.000000</td>\n",
       "      <td>0.000000</td>\n",
       "      <td>-0.000996</td>\n",
       "      <td>0.241822</td>\n",
       "      <td>-0.000887</td>\n",
       "      <td>0.000000</td>\n",
       "      <td>-179.537059</td>\n",
       "      <td>0.099237</td>\n",
       "      <td>...</td>\n",
       "      <td>1050.661782</td>\n",
       "      <td>24779.033704</td>\n",
       "      <td>1050.496816</td>\n",
       "      <td>1.844529</td>\n",
       "      <td>0.017697</td>\n",
       "      <td>-102.739731</td>\n",
       "      <td>2.998873</td>\n",
       "      <td>-153.464211</td>\n",
       "      <td>10.818288</td>\n",
       "      <td>0.000000</td>\n",
       "    </tr>\n",
       "    <tr>\n",
       "      <th>25%</th>\n",
       "      <td>-2.451000</td>\n",
       "      <td>29.262000</td>\n",
       "      <td>2019.000000</td>\n",
       "      <td>13.000000</td>\n",
       "      <td>-0.000096</td>\n",
       "      <td>0.705817</td>\n",
       "      <td>-0.000078</td>\n",
       "      <td>0.110535</td>\n",
       "      <td>-56.782383</td>\n",
       "      <td>28.844520</td>\n",
       "      <td>...</td>\n",
       "      <td>4595.400519</td>\n",
       "      <td>53175.779928</td>\n",
       "      <td>3680.856344</td>\n",
       "      <td>9.974574</td>\n",
       "      <td>0.241453</td>\n",
       "      <td>-30.309170</td>\n",
       "      <td>35.829907</td>\n",
       "      <td>-125.991158</td>\n",
       "      <td>24.686763</td>\n",
       "      <td>9.797995</td>\n",
       "    </tr>\n",
       "    <tr>\n",
       "      <th>50%</th>\n",
       "      <td>-1.882000</td>\n",
       "      <td>29.883000</td>\n",
       "      <td>2020.000000</td>\n",
       "      <td>26.000000</td>\n",
       "      <td>0.000024</td>\n",
       "      <td>0.809118</td>\n",
       "      <td>0.000019</td>\n",
       "      <td>0.161855</td>\n",
       "      <td>-12.441726</td>\n",
       "      <td>37.784299</td>\n",
       "      <td>...</td>\n",
       "      <td>5573.854309</td>\n",
       "      <td>59332.532548</td>\n",
       "      <td>4621.755170</td>\n",
       "      <td>15.130688</td>\n",
       "      <td>0.272747</td>\n",
       "      <td>-12.673914</td>\n",
       "      <td>41.119630</td>\n",
       "      <td>-84.644352</td>\n",
       "      <td>28.333630</td>\n",
       "      <td>45.593445</td>\n",
       "    </tr>\n",
       "    <tr>\n",
       "      <th>75%</th>\n",
       "      <td>-1.303000</td>\n",
       "      <td>30.471000</td>\n",
       "      <td>2021.000000</td>\n",
       "      <td>39.000000</td>\n",
       "      <td>0.000153</td>\n",
       "      <td>0.942792</td>\n",
       "      <td>0.000121</td>\n",
       "      <td>0.211824</td>\n",
       "      <td>72.059990</td>\n",
       "      <td>47.634875</td>\n",
       "      <td>...</td>\n",
       "      <td>6542.303642</td>\n",
       "      <td>65663.842684</td>\n",
       "      <td>5572.983223</td>\n",
       "      <td>23.785030</td>\n",
       "      <td>0.302892</td>\n",
       "      <td>9.402202</td>\n",
       "      <td>44.446272</td>\n",
       "      <td>-48.132701</td>\n",
       "      <td>31.499883</td>\n",
       "      <td>109.549595</td>\n",
       "    </tr>\n",
       "    <tr>\n",
       "      <th>max</th>\n",
       "      <td>-0.510000</td>\n",
       "      <td>31.532000</td>\n",
       "      <td>2021.000000</td>\n",
       "      <td>52.000000</td>\n",
       "      <td>0.004191</td>\n",
       "      <td>1.885239</td>\n",
       "      <td>0.004236</td>\n",
       "      <td>0.299998</td>\n",
       "      <td>122.095200</td>\n",
       "      <td>66.242012</td>\n",
       "      <td>...</td>\n",
       "      <td>12384.239458</td>\n",
       "      <td>89291.615576</td>\n",
       "      <td>11384.239458</td>\n",
       "      <td>250.000000</td>\n",
       "      <td>0.736514</td>\n",
       "      <td>78.223037</td>\n",
       "      <td>65.951248</td>\n",
       "      <td>-22.653170</td>\n",
       "      <td>42.060436</td>\n",
       "      <td>3167.768000</td>\n",
       "    </tr>\n",
       "  </tbody>\n",
       "</table>\n",
       "<p>8 rows × 75 columns</p>\n",
       "</div>"
      ],
      "text/plain": [
       "           latitude     longitude          year       week_no  \\\n",
       "count  79023.000000  79023.000000  79023.000000  79023.000000   \n",
       "mean      -1.891072     29.880155   2020.000000     26.000000   \n",
       "std        0.694522      0.810375      0.816502     15.297155   \n",
       "min       -3.299000     28.228000   2019.000000      0.000000   \n",
       "25%       -2.451000     29.262000   2019.000000     13.000000   \n",
       "50%       -1.882000     29.883000   2020.000000     26.000000   \n",
       "75%       -1.303000     30.471000   2021.000000     39.000000   \n",
       "max       -0.510000     31.532000   2021.000000     52.000000   \n",
       "\n",
       "       SulphurDioxide_SO2_column_number_density  \\\n",
       "count                              64414.000000   \n",
       "mean                                   0.000048   \n",
       "std                                    0.000272   \n",
       "min                                   -0.000996   \n",
       "25%                                   -0.000096   \n",
       "50%                                    0.000024   \n",
       "75%                                    0.000153   \n",
       "max                                    0.004191   \n",
       "\n",
       "       SulphurDioxide_SO2_column_number_density_amf  \\\n",
       "count                                  64414.000000   \n",
       "mean                                       0.834848   \n",
       "std                                        0.185382   \n",
       "min                                        0.241822   \n",
       "25%                                        0.705817   \n",
       "50%                                        0.809118   \n",
       "75%                                        0.942792   \n",
       "max                                        1.885239   \n",
       "\n",
       "       SulphurDioxide_SO2_slant_column_number_density  \\\n",
       "count                                    64414.000000   \n",
       "mean                                         0.000035   \n",
       "std                                          0.000206   \n",
       "min                                         -0.000887   \n",
       "25%                                         -0.000078   \n",
       "50%                                          0.000019   \n",
       "75%                                          0.000121   \n",
       "max                                          0.004236   \n",
       "\n",
       "       SulphurDioxide_cloud_fraction  SulphurDioxide_sensor_azimuth_angle  \\\n",
       "count                   64414.000000                         64414.000000   \n",
       "mean                        0.158418                            -7.925870   \n",
       "std                         0.071364                            64.263368   \n",
       "min                         0.000000                          -179.537059   \n",
       "25%                         0.110535                           -56.782383   \n",
       "50%                         0.161855                           -12.441726   \n",
       "75%                         0.211824                            72.059990   \n",
       "max                         0.299998                           122.095200   \n",
       "\n",
       "       SulphurDioxide_sensor_zenith_angle  ...  Cloud_cloud_top_height  \\\n",
       "count                        64414.000000  ...            78539.000000   \n",
       "mean                            37.436189  ...             5592.377478   \n",
       "std                             14.149950  ...             1428.503002   \n",
       "min                              0.099237  ...             1050.661782   \n",
       "25%                             28.844520  ...             4595.400519   \n",
       "50%                             37.784299  ...             5573.854309   \n",
       "75%                             47.634875  ...             6542.303642   \n",
       "max                             66.242012  ...            12384.239458   \n",
       "\n",
       "       Cloud_cloud_base_pressure  Cloud_cloud_base_height  \\\n",
       "count               78539.000000             78539.000000   \n",
       "mean                59420.297456              4670.430869   \n",
       "std                  9051.163609              1359.251583   \n",
       "min                 24779.033704              1050.496816   \n",
       "25%                 53175.779928              3680.856344   \n",
       "50%                 59332.532548              4621.755170   \n",
       "75%                 65663.842684              5572.983223   \n",
       "max                 89291.615576             11384.239458   \n",
       "\n",
       "       Cloud_cloud_optical_depth  Cloud_surface_albedo  \\\n",
       "count               78539.000000          78539.000000   \n",
       "mean                   19.139241              0.271460   \n",
       "std                    13.547047              0.049434   \n",
       "min                     1.844529              0.017697   \n",
       "25%                     9.974574              0.241453   \n",
       "50%                    15.130688              0.272747   \n",
       "75%                    23.785030              0.302892   \n",
       "max                   250.000000              0.736514   \n",
       "\n",
       "       Cloud_sensor_azimuth_angle  Cloud_sensor_zenith_angle  \\\n",
       "count                78539.000000               78539.000000   \n",
       "mean                   -10.784832                  40.436976   \n",
       "std                     30.374462                   6.428216   \n",
       "min                   -102.739731                   2.998873   \n",
       "25%                    -30.309170                  35.829907   \n",
       "50%                    -12.673914                  41.119630   \n",
       "75%                      9.402202                  44.446272   \n",
       "max                     78.223037                  65.951248   \n",
       "\n",
       "       Cloud_solar_azimuth_angle  Cloud_solar_zenith_angle      emission  \n",
       "count               78539.000000              78539.000000  79023.000000  \n",
       "mean                  -86.800583                 27.925981     81.940552  \n",
       "std                    37.837269                  4.403835    144.299648  \n",
       "min                  -153.464211                 10.818288      0.000000  \n",
       "25%                  -125.991158                 24.686763      9.797995  \n",
       "50%                   -84.644352                 28.333630     45.593445  \n",
       "75%                   -48.132701                 31.499883    109.549595  \n",
       "max                   -22.653170                 42.060436   3167.768000  \n",
       "\n",
       "[8 rows x 75 columns]"
      ]
     },
     "execution_count": 5,
     "metadata": {},
     "output_type": "execute_result"
    }
   ],
   "source": [
    "df.describe()"
   ]
  },
  {
   "cell_type": "code",
   "execution_count": 6,
   "id": "8cd7f468",
   "metadata": {
    "execution": {
     "iopub.execute_input": "2023-08-06T04:03:33.720538Z",
     "iopub.status.busy": "2023-08-06T04:03:33.720247Z",
     "iopub.status.idle": "2023-08-06T04:03:33.725877Z",
     "shell.execute_reply": "2023-08-06T04:03:33.725231Z"
    },
    "papermill": {
     "duration": 0.015601,
     "end_time": "2023-08-06T04:03:33.727703",
     "exception": false,
     "start_time": "2023-08-06T04:03:33.712102",
     "status": "completed"
    },
    "tags": []
   },
   "outputs": [
    {
     "data": {
      "text/plain": [
       "(79023, 76)"
      ]
     },
     "execution_count": 6,
     "metadata": {},
     "output_type": "execute_result"
    }
   ],
   "source": [
    "df.shape"
   ]
  },
  {
   "cell_type": "code",
   "execution_count": 7,
   "id": "0394dcde",
   "metadata": {
    "execution": {
     "iopub.execute_input": "2023-08-06T04:03:33.743904Z",
     "iopub.status.busy": "2023-08-06T04:03:33.742849Z",
     "iopub.status.idle": "2023-08-06T04:03:34.449177Z",
     "shell.execute_reply": "2023-08-06T04:03:34.448222Z"
    },
    "papermill": {
     "duration": 0.716556,
     "end_time": "2023-08-06T04:03:34.451437",
     "exception": false,
     "start_time": "2023-08-06T04:03:33.734881",
     "status": "completed"
    },
    "tags": []
   },
   "outputs": [
    {
     "name": "stderr",
     "output_type": "stream",
     "text": [
      "/tmp/ipykernel_20/3147368345.py:1: FutureWarning: The default value of numeric_only in DataFrame.corr is deprecated. In a future version, it will default to False. Select only valid columns or specify the value of numeric_only to silence this warning.\n",
      "  corr_matrix = df.corr()\n"
     ]
    }
   ],
   "source": [
    "corr_matrix = df.corr()"
   ]
  },
  {
   "cell_type": "code",
   "execution_count": 8,
   "id": "723ef388",
   "metadata": {
    "execution": {
     "iopub.execute_input": "2023-08-06T04:03:34.467499Z",
     "iopub.status.busy": "2023-08-06T04:03:34.467152Z",
     "iopub.status.idle": "2023-08-06T04:03:35.052714Z",
     "shell.execute_reply": "2023-08-06T04:03:35.052030Z"
    },
    "papermill": {
     "duration": 0.595889,
     "end_time": "2023-08-06T04:03:35.054947",
     "exception": false,
     "start_time": "2023-08-06T04:03:34.459058",
     "status": "completed"
    },
    "tags": []
   },
   "outputs": [
    {
     "data": {
      "image/png": "[encoded data removed]",
      "text/plain": [
       "<Figure size 640x480 with 2 Axes>"
      ]
     },
     "metadata": {},
     "output_type": "display_data"
    }
   ],
   "source": [
    "sns.heatmap(corr_matrix)\n",
    "plt.show()"
   ]
  },
  {
   "cell_type": "code",
   "execution_count": 9,
   "id": "a987f671",
   "metadata": {
    "execution": {
     "iopub.execute_input": "2023-08-06T04:03:35.076165Z",
     "iopub.status.busy": "2023-08-06T04:03:35.075031Z",
     "iopub.status.idle": "2023-08-06T04:03:35.080579Z",
     "shell.execute_reply": "2023-08-06T04:03:35.079991Z"
    },
    "papermill": {
     "duration": 0.01792,
     "end_time": "2023-08-06T04:03:35.082639",
     "exception": false,
     "start_time": "2023-08-06T04:03:35.064719",
     "status": "completed"
    },
    "tags": []
   },
   "outputs": [
    {
     "data": {
      "text/plain": [
       "0.04951146331737151"
      ]
     },
     "execution_count": 9,
     "metadata": {},
     "output_type": "execute_result"
    }
   ],
   "source": [
    "corr_matrix[\"UvAerosolLayerHeight_aerosol_pressure\"][\"week_no\"]"
   ]
  },
  {
   "cell_type": "code",
   "execution_count": 10,
   "id": "0d4884a3",
   "metadata": {
    "execution": {
     "iopub.execute_input": "2023-08-06T04:03:35.105223Z",
     "iopub.status.busy": "2023-08-06T04:03:35.104157Z",
     "iopub.status.idle": "2023-08-06T04:03:35.308772Z",
     "shell.execute_reply": "2023-08-06T04:03:35.307778Z"
    },
    "papermill": {
     "duration": 0.2178,
     "end_time": "2023-08-06T04:03:35.311269",
     "exception": false,
     "start_time": "2023-08-06T04:03:35.093469",
     "status": "completed"
    },
    "tags": []
   },
   "outputs": [],
   "source": [
    "from sklearn.preprocessing import StandardScaler\n",
    "from sklearn.model_selection import train_test_split"
   ]
  },
  {
   "cell_type": "code",
   "execution_count": 11,
   "id": "558f913b",
   "metadata": {
    "execution": {
     "iopub.execute_input": "2023-08-06T04:03:35.333165Z",
     "iopub.status.busy": "2023-08-06T04:03:35.332171Z",
     "iopub.status.idle": "2023-08-06T04:03:35.364301Z",
     "shell.execute_reply": "2023-08-06T04:03:35.363657Z"
    },
    "papermill": {
     "duration": 0.04501,
     "end_time": "2023-08-06T04:03:35.366345",
     "exception": false,
     "start_time": "2023-08-06T04:03:35.321335",
     "status": "completed"
    },
    "tags": []
   },
   "outputs": [],
   "source": [
    "df[\"year\"] = pd.factorize(df[\"year\"])[0] + 1\n",
    "df = df.fillna(0)"
   ]
  },
  {
   "cell_type": "code",
   "execution_count": 12,
   "id": "a2d1144c",
   "metadata": {
    "execution": {
     "iopub.execute_input": "2023-08-06T04:03:35.388081Z",
     "iopub.status.busy": "2023-08-06T04:03:35.387263Z",
     "iopub.status.idle": "2023-08-06T04:03:35.413568Z",
     "shell.execute_reply": "2023-08-06T04:03:35.412637Z"
    },
    "papermill": {
     "duration": 0.039451,
     "end_time": "2023-08-06T04:03:35.415758",
     "exception": false,
     "start_time": "2023-08-06T04:03:35.376307",
     "status": "completed"
    },
    "tags": []
   },
   "outputs": [],
   "source": [
    "df = df.dropna()"
   ]
  },
  {
   "cell_type": "code",
   "execution_count": 13,
   "id": "f526971f",
   "metadata": {
    "execution": {
     "iopub.execute_input": "2023-08-06T04:03:35.438177Z",
     "iopub.status.busy": "2023-08-06T04:03:35.437809Z",
     "iopub.status.idle": "2023-08-06T04:03:35.744777Z",
     "shell.execute_reply": "2023-08-06T04:03:35.743899Z"
    },
    "papermill": {
     "duration": 0.320661,
     "end_time": "2023-08-06T04:03:35.746484",
     "exception": false,
     "start_time": "2023-08-06T04:03:35.425823",
     "status": "completed"
    },
    "tags": []
   },
   "outputs": [
    {
     "data": {
      "text/html": [
       "<div>\n",
       "<style scoped>\n",
       "    .dataframe tbody tr th:only-of-type {\n",
       "        vertical-align: middle;\n",
       "    }\n",
       "\n",
       "    .dataframe tbody tr th {\n",
       "        vertical-align: top;\n",
       "    }\n",
       "\n",
       "    .dataframe thead th {\n",
       "        text-align: right;\n",
       "    }\n",
       "</style>\n",
       "<table border=\"1\" class=\"dataframe\">\n",
       "  <thead>\n",
       "    <tr style=\"text-align: right;\">\n",
       "      <th></th>\n",
       "      <th>latitude</th>\n",
       "      <th>longitude</th>\n",
       "      <th>year</th>\n",
       "      <th>week_no</th>\n",
       "      <th>SulphurDioxide_SO2_column_number_density</th>\n",
       "      <th>SulphurDioxide_SO2_column_number_density_amf</th>\n",
       "      <th>SulphurDioxide_SO2_slant_column_number_density</th>\n",
       "      <th>SulphurDioxide_cloud_fraction</th>\n",
       "      <th>SulphurDioxide_sensor_azimuth_angle</th>\n",
       "      <th>SulphurDioxide_sensor_zenith_angle</th>\n",
       "      <th>...</th>\n",
       "      <th>Cloud_cloud_top_height</th>\n",
       "      <th>Cloud_cloud_base_pressure</th>\n",
       "      <th>Cloud_cloud_base_height</th>\n",
       "      <th>Cloud_cloud_optical_depth</th>\n",
       "      <th>Cloud_surface_albedo</th>\n",
       "      <th>Cloud_sensor_azimuth_angle</th>\n",
       "      <th>Cloud_sensor_zenith_angle</th>\n",
       "      <th>Cloud_solar_azimuth_angle</th>\n",
       "      <th>Cloud_solar_zenith_angle</th>\n",
       "      <th>emission</th>\n",
       "    </tr>\n",
       "  </thead>\n",
       "  <tbody>\n",
       "    <tr>\n",
       "      <th>count</th>\n",
       "      <td>79023.000000</td>\n",
       "      <td>79023.000000</td>\n",
       "      <td>79023.000000</td>\n",
       "      <td>79023.000000</td>\n",
       "      <td>79023.000000</td>\n",
       "      <td>79023.000000</td>\n",
       "      <td>79023.000000</td>\n",
       "      <td>79023.000000</td>\n",
       "      <td>79023.000000</td>\n",
       "      <td>79023.000000</td>\n",
       "      <td>...</td>\n",
       "      <td>79023.000000</td>\n",
       "      <td>79023.000000</td>\n",
       "      <td>79023.000000</td>\n",
       "      <td>79023.000000</td>\n",
       "      <td>79023.000000</td>\n",
       "      <td>79023.000000</td>\n",
       "      <td>79023.000000</td>\n",
       "      <td>79023.000000</td>\n",
       "      <td>79023.000000</td>\n",
       "      <td>79023.000000</td>\n",
       "    </tr>\n",
       "    <tr>\n",
       "      <th>mean</th>\n",
       "      <td>-1.891072</td>\n",
       "      <td>29.880155</td>\n",
       "      <td>2.000000</td>\n",
       "      <td>26.000000</td>\n",
       "      <td>0.000039</td>\n",
       "      <td>0.680509</td>\n",
       "      <td>0.000029</td>\n",
       "      <td>0.129131</td>\n",
       "      <td>-6.460613</td>\n",
       "      <td>30.515352</td>\n",
       "      <td>...</td>\n",
       "      <td>5558.125290</td>\n",
       "      <td>59056.360071</td>\n",
       "      <td>4641.825418</td>\n",
       "      <td>19.022017</td>\n",
       "      <td>0.269797</td>\n",
       "      <td>-10.718777</td>\n",
       "      <td>40.189307</td>\n",
       "      <td>-86.268946</td>\n",
       "      <td>27.754940</td>\n",
       "      <td>81.940552</td>\n",
       "    </tr>\n",
       "    <tr>\n",
       "      <th>std</th>\n",
       "      <td>0.694522</td>\n",
       "      <td>0.810375</td>\n",
       "      <td>0.816502</td>\n",
       "      <td>15.297155</td>\n",
       "      <td>0.000246</td>\n",
       "      <td>0.364751</td>\n",
       "      <td>0.000186</td>\n",
       "      <td>0.089068</td>\n",
       "      <td>58.101325</td>\n",
       "      <td>19.349423</td>\n",
       "      <td>...</td>\n",
       "      <td>1489.463877</td>\n",
       "      <td>10144.697147</td>\n",
       "      <td>1403.221989</td>\n",
       "      <td>13.587799</td>\n",
       "      <td>0.053641</td>\n",
       "      <td>30.292988</td>\n",
       "      <td>7.143012</td>\n",
       "      <td>38.324332</td>\n",
       "      <td>4.901252</td>\n",
       "      <td>144.299648</td>\n",
       "    </tr>\n",
       "    <tr>\n",
       "      <th>min</th>\n",
       "      <td>-3.299000</td>\n",
       "      <td>28.228000</td>\n",
       "      <td>1.000000</td>\n",
       "      <td>0.000000</td>\n",
       "      <td>-0.000996</td>\n",
       "      <td>0.000000</td>\n",
       "      <td>-0.000887</td>\n",
       "      <td>0.000000</td>\n",
       "      <td>-179.537059</td>\n",
       "      <td>0.000000</td>\n",
       "      <td>...</td>\n",
       "      <td>0.000000</td>\n",
       "      <td>0.000000</td>\n",
       "      <td>0.000000</td>\n",
       "      <td>0.000000</td>\n",
       "      <td>0.000000</td>\n",
       "      <td>-102.739731</td>\n",
       "      <td>0.000000</td>\n",
       "      <td>-153.464211</td>\n",
       "      <td>0.000000</td>\n",
       "      <td>0.000000</td>\n",
       "    </tr>\n",
       "    <tr>\n",
       "      <th>25%</th>\n",
       "      <td>-2.451000</td>\n",
       "      <td>29.262000</td>\n",
       "      <td>1.000000</td>\n",
       "      <td>13.000000</td>\n",
       "      <td>-0.000065</td>\n",
       "      <td>0.604531</td>\n",
       "      <td>-0.000053</td>\n",
       "      <td>0.049481</td>\n",
       "      <td>-41.806629</td>\n",
       "      <td>16.574081</td>\n",
       "      <td>...</td>\n",
       "      <td>4574.146003</td>\n",
       "      <td>53040.596343</td>\n",
       "      <td>3660.259169</td>\n",
       "      <td>9.892939</td>\n",
       "      <td>0.240753</td>\n",
       "      <td>-30.276399</td>\n",
       "      <td>35.775800</td>\n",
       "      <td>-125.822386</td>\n",
       "      <td>24.614167</td>\n",
       "      <td>9.797995</td>\n",
       "    </tr>\n",
       "    <tr>\n",
       "      <th>50%</th>\n",
       "      <td>-1.882000</td>\n",
       "      <td>29.883000</td>\n",
       "      <td>2.000000</td>\n",
       "      <td>26.000000</td>\n",
       "      <td>0.000000</td>\n",
       "      <td>0.762808</td>\n",
       "      <td>0.000000</td>\n",
       "      <td>0.140023</td>\n",
       "      <td>0.000000</td>\n",
       "      <td>34.097309</td>\n",
       "      <td>...</td>\n",
       "      <td>5563.087848</td>\n",
       "      <td>59255.784608</td>\n",
       "      <td>4610.696783</td>\n",
       "      <td>15.061696</td>\n",
       "      <td>0.272412</td>\n",
       "      <td>-12.653263</td>\n",
       "      <td>41.073490</td>\n",
       "      <td>-84.030676</td>\n",
       "      <td>28.289776</td>\n",
       "      <td>45.593445</td>\n",
       "    </tr>\n",
       "    <tr>\n",
       "      <th>75%</th>\n",
       "      <td>-1.303000</td>\n",
       "      <td>30.471000</td>\n",
       "      <td>3.000000</td>\n",
       "      <td>39.000000</td>\n",
       "      <td>0.000117</td>\n",
       "      <td>0.905362</td>\n",
       "      <td>0.000093</td>\n",
       "      <td>0.199492</td>\n",
       "      <td>30.969258</td>\n",
       "      <td>44.906770</td>\n",
       "      <td>...</td>\n",
       "      <td>6534.822189</td>\n",
       "      <td>65612.718663</td>\n",
       "      <td>5566.268062</td>\n",
       "      <td>23.708138</td>\n",
       "      <td>0.302675</td>\n",
       "      <td>9.250658</td>\n",
       "      <td>44.423683</td>\n",
       "      <td>-47.680857</td>\n",
       "      <td>31.481630</td>\n",
       "      <td>109.549595</td>\n",
       "    </tr>\n",
       "    <tr>\n",
       "      <th>max</th>\n",
       "      <td>-0.510000</td>\n",
       "      <td>31.532000</td>\n",
       "      <td>3.000000</td>\n",
       "      <td>52.000000</td>\n",
       "      <td>0.004191</td>\n",
       "      <td>1.885239</td>\n",
       "      <td>0.004236</td>\n",
       "      <td>0.299998</td>\n",
       "      <td>122.095200</td>\n",
       "      <td>66.242012</td>\n",
       "      <td>...</td>\n",
       "      <td>12384.239458</td>\n",
       "      <td>89291.615576</td>\n",
       "      <td>11384.239458</td>\n",
       "      <td>250.000000</td>\n",
       "      <td>0.736514</td>\n",
       "      <td>78.223037</td>\n",
       "      <td>65.951248</td>\n",
       "      <td>0.000000</td>\n",
       "      <td>42.060436</td>\n",
       "      <td>3167.768000</td>\n",
       "    </tr>\n",
       "  </tbody>\n",
       "</table>\n",
       "<p>8 rows × 75 columns</p>\n",
       "</div>"
      ],
      "text/plain": [
       "           latitude     longitude          year       week_no  \\\n",
       "count  79023.000000  79023.000000  79023.000000  79023.000000   \n",
       "mean      -1.891072     29.880155      2.000000     26.000000   \n",
       "std        0.694522      0.810375      0.816502     15.297155   \n",
       "min       -3.299000     28.228000      1.000000      0.000000   \n",
       "25%       -2.451000     29.262000      1.000000     13.000000   \n",
       "50%       -1.882000     29.883000      2.000000     26.000000   \n",
       "75%       -1.303000     30.471000      3.000000     39.000000   \n",
       "max       -0.510000     31.532000      3.000000     52.000000   \n",
       "\n",
       "       SulphurDioxide_SO2_column_number_density  \\\n",
       "count                              79023.000000   \n",
       "mean                                   0.000039   \n",
       "std                                    0.000246   \n",
       "min                                   -0.000996   \n",
       "25%                                   -0.000065   \n",
       "50%                                    0.000000   \n",
       "75%                                    0.000117   \n",
       "max                                    0.004191   \n",
       "\n",
       "       SulphurDioxide_SO2_column_number_density_amf  \\\n",
       "count                                  79023.000000   \n",
       "mean                                       0.680509   \n",
       "std                                        0.364751   \n",
       "min                                        0.000000   \n",
       "25%                                        0.604531   \n",
       "50%                                        0.762808   \n",
       "75%                                        0.905362   \n",
       "max                                        1.885239   \n",
       "\n",
       "       SulphurDioxide_SO2_slant_column_number_density  \\\n",
       "count                                    79023.000000   \n",
       "mean                                         0.000029   \n",
       "std                                          0.000186   \n",
       "min                                         -0.000887   \n",
       "25%                                         -0.000053   \n",
       "50%                                          0.000000   \n",
       "75%                                          0.000093   \n",
       "max                                          0.004236   \n",
       "\n",
       "       SulphurDioxide_cloud_fraction  SulphurDioxide_sensor_azimuth_angle  \\\n",
       "count                   79023.000000                         79023.000000   \n",
       "mean                        0.129131                            -6.460613   \n",
       "std                         0.089068                            58.101325   \n",
       "min                         0.000000                          -179.537059   \n",
       "25%                         0.049481                           -41.806629   \n",
       "50%                         0.140023                             0.000000   \n",
       "75%                         0.199492                            30.969258   \n",
       "max                         0.299998                           122.095200   \n",
       "\n",
       "       SulphurDioxide_sensor_zenith_angle  ...  Cloud_cloud_top_height  \\\n",
       "count                        79023.000000  ...            79023.000000   \n",
       "mean                            30.515352  ...             5558.125290   \n",
       "std                             19.349423  ...             1489.463877   \n",
       "min                              0.000000  ...                0.000000   \n",
       "25%                             16.574081  ...             4574.146003   \n",
       "50%                             34.097309  ...             5563.087848   \n",
       "75%                             44.906770  ...             6534.822189   \n",
       "max                             66.242012  ...            12384.239458   \n",
       "\n",
       "       Cloud_cloud_base_pressure  Cloud_cloud_base_height  \\\n",
       "count               79023.000000             79023.000000   \n",
       "mean                59056.360071              4641.825418   \n",
       "std                 10144.697147              1403.221989   \n",
       "min                     0.000000                 0.000000   \n",
       "25%                 53040.596343              3660.259169   \n",
       "50%                 59255.784608              4610.696783   \n",
       "75%                 65612.718663              5566.268062   \n",
       "max                 89291.615576             11384.239458   \n",
       "\n",
       "       Cloud_cloud_optical_depth  Cloud_surface_albedo  \\\n",
       "count               79023.000000          79023.000000   \n",
       "mean                   19.022017              0.269797   \n",
       "std                    13.587799              0.053641   \n",
       "min                     0.000000              0.000000   \n",
       "25%                     9.892939              0.240753   \n",
       "50%                    15.061696              0.272412   \n",
       "75%                    23.708138              0.302675   \n",
       "max                   250.000000              0.736514   \n",
       "\n",
       "       Cloud_sensor_azimuth_angle  Cloud_sensor_zenith_angle  \\\n",
       "count                79023.000000               79023.000000   \n",
       "mean                   -10.718777                  40.189307   \n",
       "std                     30.292988                   7.143012   \n",
       "min                   -102.739731                   0.000000   \n",
       "25%                    -30.276399                  35.775800   \n",
       "50%                    -12.653263                  41.073490   \n",
       "75%                      9.250658                  44.423683   \n",
       "max                     78.223037                  65.951248   \n",
       "\n",
       "       Cloud_solar_azimuth_angle  Cloud_solar_zenith_angle      emission  \n",
       "count               79023.000000              79023.000000  79023.000000  \n",
       "mean                  -86.268946                 27.754940     81.940552  \n",
       "std                    38.324332                  4.901252    144.299648  \n",
       "min                  -153.464211                  0.000000      0.000000  \n",
       "25%                  -125.822386                 24.614167      9.797995  \n",
       "50%                   -84.030676                 28.289776     45.593445  \n",
       "75%                   -47.680857                 31.481630    109.549595  \n",
       "max                     0.000000                 42.060436   3167.768000  \n",
       "\n",
       "[8 rows x 75 columns]"
      ]
     },
     "execution_count": 13,
     "metadata": {},
     "output_type": "execute_result"
    }
   ],
   "source": [
    "df.describe()"
   ]
  },
  {
   "cell_type": "code",
   "execution_count": 14,
   "id": "61f8fc2d",
   "metadata": {
    "execution": {
     "iopub.execute_input": "2023-08-06T04:03:35.769081Z",
     "iopub.status.busy": "2023-08-06T04:03:35.768725Z",
     "iopub.status.idle": "2023-08-06T04:03:35.782051Z",
     "shell.execute_reply": "2023-08-06T04:03:35.781110Z"
    },
    "papermill": {
     "duration": 0.026743,
     "end_time": "2023-08-06T04:03:35.783654",
     "exception": false,
     "start_time": "2023-08-06T04:03:35.756911",
     "status": "completed"
    },
    "tags": []
   },
   "outputs": [],
   "source": [
    "X = df.drop([\"ID_LAT_LON_YEAR_WEEK\", \"emission\"], axis=1)\n",
    "y = df[\"emission\"]"
   ]
  },
  {
   "cell_type": "markdown",
   "id": "0f05024a",
   "metadata": {
    "papermill": {
     "duration": 0.009673,
     "end_time": "2023-08-06T04:03:35.804109",
     "exception": false,
     "start_time": "2023-08-06T04:03:35.794436",
     "status": "completed"
    },
    "tags": []
   },
   "source": [
    "## Linear Regression"
   ]
  },
  {
   "cell_type": "code",
   "execution_count": 15,
   "id": "cc041c6e",
   "metadata": {
    "execution": {
     "iopub.execute_input": "2023-08-06T04:03:35.825965Z",
     "iopub.status.busy": "2023-08-06T04:03:35.825069Z",
     "iopub.status.idle": "2023-08-06T04:03:35.904121Z",
     "shell.execute_reply": "2023-08-06T04:03:35.903165Z"
    },
    "papermill": {
     "duration": 0.092332,
     "end_time": "2023-08-06T04:03:35.906397",
     "exception": false,
     "start_time": "2023-08-06T04:03:35.814065",
     "status": "completed"
    },
    "tags": []
   },
   "outputs": [],
   "source": [
    "from sklearn.linear_model import LinearRegression"
   ]
  },
  {
   "cell_type": "code",
   "execution_count": 16,
   "id": "9367a6bd",
   "metadata": {
    "execution": {
     "iopub.execute_input": "2023-08-06T04:03:35.928520Z",
     "iopub.status.busy": "2023-08-06T04:03:35.928234Z",
     "iopub.status.idle": "2023-08-06T04:03:35.931902Z",
     "shell.execute_reply": "2023-08-06T04:03:35.931022Z"
    },
    "papermill": {
     "duration": 0.017107,
     "end_time": "2023-08-06T04:03:35.933737",
     "exception": false,
     "start_time": "2023-08-06T04:03:35.916630",
     "status": "completed"
    },
    "tags": []
   },
   "outputs": [],
   "source": [
    "lr_model = LinearRegression()"
   ]
  },
  {
   "cell_type": "code",
   "execution_count": 17,
   "id": "98778079",
   "metadata": {
    "execution": {
     "iopub.execute_input": "2023-08-06T04:03:35.956596Z",
     "iopub.status.busy": "2023-08-06T04:03:35.955803Z",
     "iopub.status.idle": "2023-08-06T04:03:36.171603Z",
     "shell.execute_reply": "2023-08-06T04:03:36.170806Z"
    },
    "papermill": {
     "duration": 0.229207,
     "end_time": "2023-08-06T04:03:36.173603",
     "exception": false,
     "start_time": "2023-08-06T04:03:35.944396",
     "status": "completed"
    },
    "tags": []
   },
   "outputs": [
    {
     "data": {
      "text/html": [
       "<style>#sk-container-id-1 {color: black;background-color: white;}#sk-container-id-1 pre{padding: 0;}#sk-container-id-1 div.sk-toggleable {background-color: white;}#sk-container-id-1 label.sk-toggleable__label {cursor: pointer;display: block;width: 100%;margin-bottom: 0;padding: 0.3em;box-sizing: border-box;text-align: center;}#sk-container-id-1 label.sk-toggleable__label-arrow:before {content: \"▸\";float: left;margin-right: 0.25em;color: #696969;}#sk-container-id-1 label.sk-toggleable__label-arrow:hover:before {color: black;}#sk-container-id-1 div.sk-estimator:hover label.sk-toggleable__label-arrow:before {color: black;}#sk-container-id-1 div.sk-toggleable__content {max-height: 0;max-width: 0;overflow: hidden;text-align: left;background-color: #f0f8ff;}#sk-container-id-1 div.sk-toggleable__content pre {margin: 0.2em;color: black;border-radius: 0.25em;background-color: #f0f8ff;}#sk-container-id-1 input.sk-toggleable__control:checked~div.sk-toggleable__content {max-height: 200px;max-width: 100%;overflow: auto;}#sk-container-id-1 input.sk-toggleable__control:checked~label.sk-toggleable__label-arrow:before {content: \"▾\";}#sk-container-id-1 div.sk-estimator input.sk-toggleable__control:checked~label.sk-toggleable__label {background-color: #d4ebff;}#sk-container-id-1 div.sk-label input.sk-toggleable__control:checked~label.sk-toggleable__label {background-color: #d4ebff;}#sk-container-id-1 input.sk-hidden--visually {border: 0;clip: rect(1px 1px 1px 1px);clip: rect(1px, 1px, 1px, 1px);height: 1px;margin: -1px;overflow: hidden;padding: 0;position: absolute;width: 1px;}#sk-container-id-1 div.sk-estimator {font-family: monospace;background-color: #f0f8ff;border: 1px dotted black;border-radius: 0.25em;box-sizing: border-box;margin-bottom: 0.5em;}#sk-container-id-1 div.sk-estimator:hover {background-color: #d4ebff;}#sk-container-id-1 div.sk-parallel-item::after {content: \"\";width: 100%;border-bottom: 1px solid gray;flex-grow: 1;}#sk-container-id-1 div.sk-label:hover label.sk-toggleable__label {background-color: #d4ebff;}#sk-container-id-1 div.sk-serial::before {content: \"\";position: absolute;border-left: 1px solid gray;box-sizing: border-box;top: 0;bottom: 0;left: 50%;z-index: 0;}#sk-container-id-1 div.sk-serial {display: flex;flex-direction: column;align-items: center;background-color: white;padding-right: 0.2em;padding-left: 0.2em;position: relative;}#sk-container-id-1 div.sk-item {position: relative;z-index: 1;}#sk-container-id-1 div.sk-parallel {display: flex;align-items: stretch;justify-content: center;background-color: white;position: relative;}#sk-container-id-1 div.sk-item::before, #sk-container-id-1 div.sk-parallel-item::before {content: \"\";position: absolute;border-left: 1px solid gray;box-sizing: border-box;top: 0;bottom: 0;left: 50%;z-index: -1;}#sk-container-id-1 div.sk-parallel-item {display: flex;flex-direction: column;z-index: 1;position: relative;background-color: white;}#sk-container-id-1 div.sk-parallel-item:first-child::after {align-self: flex-end;width: 50%;}#sk-container-id-1 div.sk-parallel-item:last-child::after {align-self: flex-start;width: 50%;}#sk-container-id-1 div.sk-parallel-item:only-child::after {width: 0;}#sk-container-id-1 div.sk-dashed-wrapped {border: 1px dashed gray;margin: 0 0.4em 0.5em 0.4em;box-sizing: border-box;padding-bottom: 0.4em;background-color: white;}#sk-container-id-1 div.sk-label label {font-family: monospace;font-weight: bold;display: inline-block;line-height: 1.2em;}#sk-container-id-1 div.sk-label-container {text-align: center;}#sk-container-id-1 div.sk-container {/* jupyter's `normalize.less` sets `[hidden] { display: none; }` but bootstrap.min.css set `[hidden] { display: none !important; }` so we also need the `!important` here to be able to override the default hidden behavior on the sphinx rendered scikit-learn.org. See: https://github.com/scikit-learn/scikit-learn/issues/21755 */display: inline-block !important;position: relative;}#sk-container-id-1 div.sk-text-repr-fallback {display: none;}</style><div id=\"sk-container-id-1\" class=\"sk-top-container\"><div class=\"sk-text-repr-fallback\"><pre>LinearRegression()</pre><b>In a Jupyter environment, please rerun this cell to show the HTML representation or trust the notebook. <br />On GitHub, the HTML representation is unable to render, please try loading this page with nbviewer.org.</b></div><div class=\"sk-container\" hidden><div class=\"sk-item\"><div class=\"sk-estimator sk-toggleable\"><input class=\"sk-toggleable__control sk-hidden--visually\" id=\"sk-estimator-id-1\" type=\"checkbox\" checked><label for=\"sk-estimator-id-1\" class=\"sk-toggleable__label sk-toggleable__label-arrow\">LinearRegression</label><div class=\"sk-toggleable__content\"><pre>LinearRegression()</pre></div></div></div></div></div>"
      ],
      "text/plain": [
       "LinearRegression()"
      ]
     },
     "execution_count": 17,
     "metadata": {},
     "output_type": "execute_result"
    }
   ],
   "source": [
    "lr_model.fit(X, y)"
   ]
  },
  {
   "cell_type": "code",
   "execution_count": 18,
   "id": "5f42b2f7",
   "metadata": {
    "execution": {
     "iopub.execute_input": "2023-08-06T04:03:36.204571Z",
     "iopub.status.busy": "2023-08-06T04:03:36.203761Z",
     "iopub.status.idle": "2023-08-06T04:03:36.223698Z",
     "shell.execute_reply": "2023-08-06T04:03:36.222902Z"
    },
    "papermill": {
     "duration": 0.037422,
     "end_time": "2023-08-06T04:03:36.225876",
     "exception": false,
     "start_time": "2023-08-06T04:03:36.188454",
     "status": "completed"
    },
    "tags": []
   },
   "outputs": [],
   "source": [
    "dev_pred = lr_model.predict(X)"
   ]
  },
  {
   "cell_type": "code",
   "execution_count": 19,
   "id": "196737e4",
   "metadata": {
    "execution": {
     "iopub.execute_input": "2023-08-06T04:03:36.257126Z",
     "iopub.status.busy": "2023-08-06T04:03:36.256783Z",
     "iopub.status.idle": "2023-08-06T04:03:36.260920Z",
     "shell.execute_reply": "2023-08-06T04:03:36.260235Z"
    },
    "papermill": {
     "duration": 0.022775,
     "end_time": "2023-08-06T04:03:36.264072",
     "exception": false,
     "start_time": "2023-08-06T04:03:36.241297",
     "status": "completed"
    },
    "tags": []
   },
   "outputs": [],
   "source": [
    "def rmse(y_true, y_pred):\n",
    "    from sklearn.metrics import mean_squared_error\n",
    "    return np.sqrt(mean_squared_error(y_true, y_pred))"
   ]
  },
  {
   "cell_type": "code",
   "execution_count": 20,
   "id": "a94e5520",
   "metadata": {
    "execution": {
     "iopub.execute_input": "2023-08-06T04:03:36.295242Z",
     "iopub.status.busy": "2023-08-06T04:03:36.294914Z",
     "iopub.status.idle": "2023-08-06T04:03:36.300854Z",
     "shell.execute_reply": "2023-08-06T04:03:36.300200Z"
    },
    "papermill": {
     "duration": 0.025095,
     "end_time": "2023-08-06T04:03:36.305045",
     "exception": false,
     "start_time": "2023-08-06T04:03:36.279950",
     "status": "completed"
    },
    "tags": []
   },
   "outputs": [
    {
     "data": {
      "text/plain": [
       "142.25429866076897"
      ]
     },
     "execution_count": 20,
     "metadata": {},
     "output_type": "execute_result"
    }
   ],
   "source": [
    "rmse(dev_pred, y)"
   ]
  },
  {
   "cell_type": "code",
   "execution_count": 21,
   "id": "b05627a6",
   "metadata": {
    "execution": {
     "iopub.execute_input": "2023-08-06T04:03:36.334540Z",
     "iopub.status.busy": "2023-08-06T04:03:36.334243Z",
     "iopub.status.idle": "2023-08-06T04:03:36.345593Z",
     "shell.execute_reply": "2023-08-06T04:03:36.345004Z"
    },
    "papermill": {
     "duration": 0.028019,
     "end_time": "2023-08-06T04:03:36.347321",
     "exception": false,
     "start_time": "2023-08-06T04:03:36.319302",
     "status": "completed"
    },
    "tags": []
   },
   "outputs": [],
   "source": [
    "test_df = test_df.fillna(0)"
   ]
  },
  {
   "cell_type": "code",
   "execution_count": 22,
   "id": "12490fa3",
   "metadata": {
    "execution": {
     "iopub.execute_input": "2023-08-06T04:03:36.369708Z",
     "iopub.status.busy": "2023-08-06T04:03:36.369173Z",
     "iopub.status.idle": "2023-08-06T04:03:36.394941Z",
     "shell.execute_reply": "2023-08-06T04:03:36.394172Z"
    },
    "papermill": {
     "duration": 0.0388,
     "end_time": "2023-08-06T04:03:36.396652",
     "exception": false,
     "start_time": "2023-08-06T04:03:36.357852",
     "status": "completed"
    },
    "tags": []
   },
   "outputs": [
    {
     "data": {
      "text/html": [
       "<div>\n",
       "<style scoped>\n",
       "    .dataframe tbody tr th:only-of-type {\n",
       "        vertical-align: middle;\n",
       "    }\n",
       "\n",
       "    .dataframe tbody tr th {\n",
       "        vertical-align: top;\n",
       "    }\n",
       "\n",
       "    .dataframe thead th {\n",
       "        text-align: right;\n",
       "    }\n",
       "</style>\n",
       "<table border=\"1\" class=\"dataframe\">\n",
       "  <thead>\n",
       "    <tr style=\"text-align: right;\">\n",
       "      <th></th>\n",
       "      <th>ID_LAT_LON_YEAR_WEEK</th>\n",
       "      <th>latitude</th>\n",
       "      <th>longitude</th>\n",
       "      <th>year</th>\n",
       "      <th>week_no</th>\n",
       "      <th>SulphurDioxide_SO2_column_number_density</th>\n",
       "      <th>SulphurDioxide_SO2_column_number_density_amf</th>\n",
       "      <th>SulphurDioxide_SO2_slant_column_number_density</th>\n",
       "      <th>SulphurDioxide_cloud_fraction</th>\n",
       "      <th>SulphurDioxide_sensor_azimuth_angle</th>\n",
       "      <th>...</th>\n",
       "      <th>Cloud_cloud_top_pressure</th>\n",
       "      <th>Cloud_cloud_top_height</th>\n",
       "      <th>Cloud_cloud_base_pressure</th>\n",
       "      <th>Cloud_cloud_base_height</th>\n",
       "      <th>Cloud_cloud_optical_depth</th>\n",
       "      <th>Cloud_surface_albedo</th>\n",
       "      <th>Cloud_sensor_azimuth_angle</th>\n",
       "      <th>Cloud_sensor_zenith_angle</th>\n",
       "      <th>Cloud_solar_azimuth_angle</th>\n",
       "      <th>Cloud_solar_zenith_angle</th>\n",
       "    </tr>\n",
       "  </thead>\n",
       "  <tbody>\n",
       "    <tr>\n",
       "      <th>0</th>\n",
       "      <td>ID_-0.510_29.290_2022_00</td>\n",
       "      <td>-0.510</td>\n",
       "      <td>29.290</td>\n",
       "      <td>2022</td>\n",
       "      <td>0</td>\n",
       "      <td>0.000000</td>\n",
       "      <td>0.000000</td>\n",
       "      <td>0.000000</td>\n",
       "      <td>0.000000</td>\n",
       "      <td>0.000000</td>\n",
       "      <td>...</td>\n",
       "      <td>36022.027344</td>\n",
       "      <td>8472.313477</td>\n",
       "      <td>41047.937500</td>\n",
       "      <td>7472.313477</td>\n",
       "      <td>7.935617</td>\n",
       "      <td>0.240773</td>\n",
       "      <td>-100.113792</td>\n",
       "      <td>33.697044</td>\n",
       "      <td>-133.047546</td>\n",
       "      <td>33.779583</td>\n",
       "    </tr>\n",
       "    <tr>\n",
       "      <th>1</th>\n",
       "      <td>ID_-0.510_29.290_2022_01</td>\n",
       "      <td>-0.510</td>\n",
       "      <td>29.290</td>\n",
       "      <td>2022</td>\n",
       "      <td>1</td>\n",
       "      <td>0.000456</td>\n",
       "      <td>0.691164</td>\n",
       "      <td>0.000316</td>\n",
       "      <td>0.000000</td>\n",
       "      <td>76.239196</td>\n",
       "      <td>...</td>\n",
       "      <td>48539.737242</td>\n",
       "      <td>6476.147323</td>\n",
       "      <td>54915.708579</td>\n",
       "      <td>5476.147161</td>\n",
       "      <td>11.448437</td>\n",
       "      <td>0.293119</td>\n",
       "      <td>-30.510319</td>\n",
       "      <td>42.402593</td>\n",
       "      <td>-138.632822</td>\n",
       "      <td>31.012380</td>\n",
       "    </tr>\n",
       "    <tr>\n",
       "      <th>2</th>\n",
       "      <td>ID_-0.510_29.290_2022_02</td>\n",
       "      <td>-0.510</td>\n",
       "      <td>29.290</td>\n",
       "      <td>2022</td>\n",
       "      <td>2</td>\n",
       "      <td>0.000161</td>\n",
       "      <td>0.605107</td>\n",
       "      <td>0.000106</td>\n",
       "      <td>0.079870</td>\n",
       "      <td>-42.055341</td>\n",
       "      <td>...</td>\n",
       "      <td>34133.080469</td>\n",
       "      <td>8984.795703</td>\n",
       "      <td>39006.093750</td>\n",
       "      <td>7984.795703</td>\n",
       "      <td>10.753179</td>\n",
       "      <td>0.267130</td>\n",
       "      <td>39.087361</td>\n",
       "      <td>45.936480</td>\n",
       "      <td>-144.784988</td>\n",
       "      <td>26.743361</td>\n",
       "    </tr>\n",
       "    <tr>\n",
       "      <th>3</th>\n",
       "      <td>ID_-0.510_29.290_2022_03</td>\n",
       "      <td>-0.510</td>\n",
       "      <td>29.290</td>\n",
       "      <td>2022</td>\n",
       "      <td>3</td>\n",
       "      <td>0.000350</td>\n",
       "      <td>0.696917</td>\n",
       "      <td>0.000243</td>\n",
       "      <td>0.201028</td>\n",
       "      <td>72.169566</td>\n",
       "      <td>...</td>\n",
       "      <td>50854.991076</td>\n",
       "      <td>6014.724059</td>\n",
       "      <td>57646.368368</td>\n",
       "      <td>5014.724115</td>\n",
       "      <td>11.764556</td>\n",
       "      <td>0.304679</td>\n",
       "      <td>-24.465127</td>\n",
       "      <td>42.140419</td>\n",
       "      <td>-135.027891</td>\n",
       "      <td>29.604774</td>\n",
       "    </tr>\n",
       "    <tr>\n",
       "      <th>4</th>\n",
       "      <td>ID_-0.510_29.290_2022_04</td>\n",
       "      <td>-0.510</td>\n",
       "      <td>29.290</td>\n",
       "      <td>2022</td>\n",
       "      <td>4</td>\n",
       "      <td>-0.000317</td>\n",
       "      <td>0.580527</td>\n",
       "      <td>-0.000184</td>\n",
       "      <td>0.204352</td>\n",
       "      <td>76.190865</td>\n",
       "      <td>...</td>\n",
       "      <td>46594.685145</td>\n",
       "      <td>6849.280477</td>\n",
       "      <td>52896.541873</td>\n",
       "      <td>5849.280394</td>\n",
       "      <td>13.065317</td>\n",
       "      <td>0.284221</td>\n",
       "      <td>-12.907850</td>\n",
       "      <td>30.122641</td>\n",
       "      <td>-135.500119</td>\n",
       "      <td>26.276807</td>\n",
       "    </tr>\n",
       "    <tr>\n",
       "      <th>...</th>\n",
       "      <td>...</td>\n",
       "      <td>...</td>\n",
       "      <td>...</td>\n",
       "      <td>...</td>\n",
       "      <td>...</td>\n",
       "      <td>...</td>\n",
       "      <td>...</td>\n",
       "      <td>...</td>\n",
       "      <td>...</td>\n",
       "      <td>...</td>\n",
       "      <td>...</td>\n",
       "      <td>...</td>\n",
       "      <td>...</td>\n",
       "      <td>...</td>\n",
       "      <td>...</td>\n",
       "      <td>...</td>\n",
       "      <td>...</td>\n",
       "      <td>...</td>\n",
       "      <td>...</td>\n",
       "      <td>...</td>\n",
       "      <td>...</td>\n",
       "    </tr>\n",
       "    <tr>\n",
       "      <th>24348</th>\n",
       "      <td>ID_-3.299_30.301_2022_44</td>\n",
       "      <td>-3.299</td>\n",
       "      <td>30.301</td>\n",
       "      <td>2022</td>\n",
       "      <td>44</td>\n",
       "      <td>-0.000618</td>\n",
       "      <td>0.745549</td>\n",
       "      <td>-0.000461</td>\n",
       "      <td>0.234492</td>\n",
       "      <td>72.306198</td>\n",
       "      <td>...</td>\n",
       "      <td>48839.430415</td>\n",
       "      <td>6260.120033</td>\n",
       "      <td>55483.459980</td>\n",
       "      <td>5260.120056</td>\n",
       "      <td>30.398508</td>\n",
       "      <td>0.180046</td>\n",
       "      <td>-25.528588</td>\n",
       "      <td>45.284576</td>\n",
       "      <td>-116.521412</td>\n",
       "      <td>29.992562</td>\n",
       "    </tr>\n",
       "    <tr>\n",
       "      <th>24349</th>\n",
       "      <td>ID_-3.299_30.301_2022_45</td>\n",
       "      <td>-3.299</td>\n",
       "      <td>30.301</td>\n",
       "      <td>2022</td>\n",
       "      <td>45</td>\n",
       "      <td>0.000000</td>\n",
       "      <td>0.000000</td>\n",
       "      <td>0.000000</td>\n",
       "      <td>0.000000</td>\n",
       "      <td>0.000000</td>\n",
       "      <td>...</td>\n",
       "      <td>47042.694849</td>\n",
       "      <td>6678.843299</td>\n",
       "      <td>53589.917383</td>\n",
       "      <td>5678.951521</td>\n",
       "      <td>19.223844</td>\n",
       "      <td>0.177833</td>\n",
       "      <td>-13.380005</td>\n",
       "      <td>43.770351</td>\n",
       "      <td>-122.405759</td>\n",
       "      <td>29.017975</td>\n",
       "    </tr>\n",
       "    <tr>\n",
       "      <th>24350</th>\n",
       "      <td>ID_-3.299_30.301_2022_46</td>\n",
       "      <td>-3.299</td>\n",
       "      <td>30.301</td>\n",
       "      <td>2022</td>\n",
       "      <td>46</td>\n",
       "      <td>0.000000</td>\n",
       "      <td>0.000000</td>\n",
       "      <td>0.000000</td>\n",
       "      <td>0.000000</td>\n",
       "      <td>0.000000</td>\n",
       "      <td>...</td>\n",
       "      <td>55337.148173</td>\n",
       "      <td>5336.282475</td>\n",
       "      <td>62646.761340</td>\n",
       "      <td>4336.282491</td>\n",
       "      <td>13.801194</td>\n",
       "      <td>0.219471</td>\n",
       "      <td>-5.072065</td>\n",
       "      <td>33.226455</td>\n",
       "      <td>-124.530639</td>\n",
       "      <td>30.187472</td>\n",
       "    </tr>\n",
       "    <tr>\n",
       "      <th>24351</th>\n",
       "      <td>ID_-3.299_30.301_2022_47</td>\n",
       "      <td>-3.299</td>\n",
       "      <td>30.301</td>\n",
       "      <td>2022</td>\n",
       "      <td>47</td>\n",
       "      <td>0.000071</td>\n",
       "      <td>1.003805</td>\n",
       "      <td>0.000077</td>\n",
       "      <td>0.205077</td>\n",
       "      <td>74.327427</td>\n",
       "      <td>...</td>\n",
       "      <td>44813.691428</td>\n",
       "      <td>7188.578533</td>\n",
       "      <td>50728.313991</td>\n",
       "      <td>6188.578464</td>\n",
       "      <td>27.887489</td>\n",
       "      <td>0.247275</td>\n",
       "      <td>-0.668714</td>\n",
       "      <td>45.885617</td>\n",
       "      <td>-129.006797</td>\n",
       "      <td>30.427455</td>\n",
       "    </tr>\n",
       "    <tr>\n",
       "      <th>24352</th>\n",
       "      <td>ID_-3.299_30.301_2022_48</td>\n",
       "      <td>-3.299</td>\n",
       "      <td>30.301</td>\n",
       "      <td>2022</td>\n",
       "      <td>48</td>\n",
       "      <td>0.000000</td>\n",
       "      <td>0.000000</td>\n",
       "      <td>0.000000</td>\n",
       "      <td>0.000000</td>\n",
       "      <td>0.000000</td>\n",
       "      <td>...</td>\n",
       "      <td>40528.702057</td>\n",
       "      <td>7777.863638</td>\n",
       "      <td>46260.039092</td>\n",
       "      <td>6777.863819</td>\n",
       "      <td>23.771269</td>\n",
       "      <td>0.239684</td>\n",
       "      <td>-40.826139</td>\n",
       "      <td>30.680056</td>\n",
       "      <td>-124.895473</td>\n",
       "      <td>34.457720</td>\n",
       "    </tr>\n",
       "  </tbody>\n",
       "</table>\n",
       "<p>24353 rows × 75 columns</p>\n",
       "</div>"
      ],
      "text/plain": [
       "           ID_LAT_LON_YEAR_WEEK  latitude  longitude  year  week_no  \\\n",
       "0      ID_-0.510_29.290_2022_00    -0.510     29.290  2022        0   \n",
       "1      ID_-0.510_29.290_2022_01    -0.510     29.290  2022        1   \n",
       "2      ID_-0.510_29.290_2022_02    -0.510     29.290  2022        2   \n",
       "3      ID_-0.510_29.290_2022_03    -0.510     29.290  2022        3   \n",
       "4      ID_-0.510_29.290_2022_04    -0.510     29.290  2022        4   \n",
       "...                         ...       ...        ...   ...      ...   \n",
       "24348  ID_-3.299_30.301_2022_44    -3.299     30.301  2022       44   \n",
       "24349  ID_-3.299_30.301_2022_45    -3.299     30.301  2022       45   \n",
       "24350  ID_-3.299_30.301_2022_46    -3.299     30.301  2022       46   \n",
       "24351  ID_-3.299_30.301_2022_47    -3.299     30.301  2022       47   \n",
       "24352  ID_-3.299_30.301_2022_48    -3.299     30.301  2022       48   \n",
       "\n",
       "       SulphurDioxide_SO2_column_number_density  \\\n",
       "0                                      0.000000   \n",
       "1                                      0.000456   \n",
       "2                                      0.000161   \n",
       "3                                      0.000350   \n",
       "4                                     -0.000317   \n",
       "...                                         ...   \n",
       "24348                                 -0.000618   \n",
       "24349                                  0.000000   \n",
       "24350                                  0.000000   \n",
       "24351                                  0.000071   \n",
       "24352                                  0.000000   \n",
       "\n",
       "       SulphurDioxide_SO2_column_number_density_amf  \\\n",
       "0                                          0.000000   \n",
       "1                                          0.691164   \n",
       "2                                          0.605107   \n",
       "3                                          0.696917   \n",
       "4                                          0.580527   \n",
       "...                                             ...   \n",
       "24348                                      0.745549   \n",
       "24349                                      0.000000   \n",
       "24350                                      0.000000   \n",
       "24351                                      1.003805   \n",
       "24352                                      0.000000   \n",
       "\n",
       "       SulphurDioxide_SO2_slant_column_number_density  \\\n",
       "0                                            0.000000   \n",
       "1                                            0.000316   \n",
       "2                                            0.000106   \n",
       "3                                            0.000243   \n",
       "4                                           -0.000184   \n",
       "...                                               ...   \n",
       "24348                                       -0.000461   \n",
       "24349                                        0.000000   \n",
       "24350                                        0.000000   \n",
       "24351                                        0.000077   \n",
       "24352                                        0.000000   \n",
       "\n",
       "       SulphurDioxide_cloud_fraction  SulphurDioxide_sensor_azimuth_angle  \\\n",
       "0                           0.000000                             0.000000   \n",
       "1                           0.000000                            76.239196   \n",
       "2                           0.079870                           -42.055341   \n",
       "3                           0.201028                            72.169566   \n",
       "4                           0.204352                            76.190865   \n",
       "...                              ...                                  ...   \n",
       "24348                       0.234492                            72.306198   \n",
       "24349                       0.000000                             0.000000   \n",
       "24350                       0.000000                             0.000000   \n",
       "24351                       0.205077                            74.327427   \n",
       "24352                       0.000000                             0.000000   \n",
       "\n",
       "       ...  Cloud_cloud_top_pressure  Cloud_cloud_top_height  \\\n",
       "0      ...              36022.027344             8472.313477   \n",
       "1      ...              48539.737242             6476.147323   \n",
       "2      ...              34133.080469             8984.795703   \n",
       "3      ...              50854.991076             6014.724059   \n",
       "4      ...              46594.685145             6849.280477   \n",
       "...    ...                       ...                     ...   \n",
       "24348  ...              48839.430415             6260.120033   \n",
       "24349  ...              47042.694849             6678.843299   \n",
       "24350  ...              55337.148173             5336.282475   \n",
       "24351  ...              44813.691428             7188.578533   \n",
       "24352  ...              40528.702057             7777.863638   \n",
       "\n",
       "       Cloud_cloud_base_pressure  Cloud_cloud_base_height  \\\n",
       "0                   41047.937500              7472.313477   \n",
       "1                   54915.708579              5476.147161   \n",
       "2                   39006.093750              7984.795703   \n",
       "3                   57646.368368              5014.724115   \n",
       "4                   52896.541873              5849.280394   \n",
       "...                          ...                      ...   \n",
       "24348               55483.459980              5260.120056   \n",
       "24349               53589.917383              5678.951521   \n",
       "24350               62646.761340              4336.282491   \n",
       "24351               50728.313991              6188.578464   \n",
       "24352               46260.039092              6777.863819   \n",
       "\n",
       "       Cloud_cloud_optical_depth  Cloud_surface_albedo  \\\n",
       "0                       7.935617              0.240773   \n",
       "1                      11.448437              0.293119   \n",
       "2                      10.753179              0.267130   \n",
       "3                      11.764556              0.304679   \n",
       "4                      13.065317              0.284221   \n",
       "...                          ...                   ...   \n",
       "24348                  30.398508              0.180046   \n",
       "24349                  19.223844              0.177833   \n",
       "24350                  13.801194              0.219471   \n",
       "24351                  27.887489              0.247275   \n",
       "24352                  23.771269              0.239684   \n",
       "\n",
       "       Cloud_sensor_azimuth_angle  Cloud_sensor_zenith_angle  \\\n",
       "0                     -100.113792                  33.697044   \n",
       "1                      -30.510319                  42.402593   \n",
       "2                       39.087361                  45.936480   \n",
       "3                      -24.465127                  42.140419   \n",
       "4                      -12.907850                  30.122641   \n",
       "...                           ...                        ...   \n",
       "24348                  -25.528588                  45.284576   \n",
       "24349                  -13.380005                  43.770351   \n",
       "24350                   -5.072065                  33.226455   \n",
       "24351                   -0.668714                  45.885617   \n",
       "24352                  -40.826139                  30.680056   \n",
       "\n",
       "       Cloud_solar_azimuth_angle  Cloud_solar_zenith_angle  \n",
       "0                    -133.047546                 33.779583  \n",
       "1                    -138.632822                 31.012380  \n",
       "2                    -144.784988                 26.743361  \n",
       "3                    -135.027891                 29.604774  \n",
       "4                    -135.500119                 26.276807  \n",
       "...                          ...                       ...  \n",
       "24348                -116.521412                 29.992562  \n",
       "24349                -122.405759                 29.017975  \n",
       "24350                -124.530639                 30.187472  \n",
       "24351                -129.006797                 30.427455  \n",
       "24352                -124.895473                 34.457720  \n",
       "\n",
       "[24353 rows x 75 columns]"
      ]
     },
     "execution_count": 22,
     "metadata": {},
     "output_type": "execute_result"
    }
   ],
   "source": [
    "test_df"
   ]
  },
  {
   "cell_type": "code",
   "execution_count": 23,
   "id": "75cf50de",
   "metadata": {
    "execution": {
     "iopub.execute_input": "2023-08-06T04:03:36.419909Z",
     "iopub.status.busy": "2023-08-06T04:03:36.419354Z",
     "iopub.status.idle": "2023-08-06T04:03:36.431661Z",
     "shell.execute_reply": "2023-08-06T04:03:36.430935Z"
    },
    "papermill": {
     "duration": 0.026479,
     "end_time": "2023-08-06T04:03:36.434077",
     "exception": false,
     "start_time": "2023-08-06T04:03:36.407598",
     "status": "completed"
    },
    "tags": []
   },
   "outputs": [],
   "source": [
    "pred = lr_model.predict(test_df.drop([\"ID_LAT_LON_YEAR_WEEK\"], axis=1))"
   ]
  },
  {
   "cell_type": "code",
   "execution_count": 24,
   "id": "993dd376",
   "metadata": {
    "execution": {
     "iopub.execute_input": "2023-08-06T04:03:36.465230Z",
     "iopub.status.busy": "2023-08-06T04:03:36.464907Z",
     "iopub.status.idle": "2023-08-06T04:03:36.470026Z",
     "shell.execute_reply": "2023-08-06T04:03:36.469376Z"
    },
    "papermill": {
     "duration": 0.024812,
     "end_time": "2023-08-06T04:03:36.474065",
     "exception": false,
     "start_time": "2023-08-06T04:03:36.449253",
     "status": "completed"
    },
    "tags": []
   },
   "outputs": [
    {
     "data": {
      "text/plain": [
       "array([4915.00395902, 4928.66114768, 4918.34454243, ..., 4964.13334094,\n",
       "       4977.55786871, 4967.41744057])"
      ]
     },
     "execution_count": 24,
     "metadata": {},
     "output_type": "execute_result"
    }
   ],
   "source": [
    "pred"
   ]
  },
  {
   "cell_type": "code",
   "execution_count": 25,
   "id": "ed99f119",
   "metadata": {
    "execution": {
     "iopub.execute_input": "2023-08-06T04:03:36.504928Z",
     "iopub.status.busy": "2023-08-06T04:03:36.504621Z",
     "iopub.status.idle": "2023-08-06T04:03:36.524678Z",
     "shell.execute_reply": "2023-08-06T04:03:36.524025Z"
    },
    "papermill": {
     "duration": 0.037489,
     "end_time": "2023-08-06T04:03:36.526609",
     "exception": false,
     "start_time": "2023-08-06T04:03:36.489120",
     "status": "completed"
    },
    "tags": []
   },
   "outputs": [],
   "source": [
    "submission_df = pd.DataFrame(zip(test_df[\"ID_LAT_LON_YEAR_WEEK\"], pred), columns=[\"ID_LAT_LON_YEAR_WEEK\",\"emission\"])"
   ]
  },
  {
   "cell_type": "code",
   "execution_count": 26,
   "id": "d94aca7e",
   "metadata": {
    "execution": {
     "iopub.execute_input": "2023-08-06T04:03:36.555112Z",
     "iopub.status.busy": "2023-08-06T04:03:36.554789Z",
     "iopub.status.idle": "2023-08-06T04:03:36.563819Z",
     "shell.execute_reply": "2023-08-06T04:03:36.563272Z"
    },
    "papermill": {
     "duration": 0.023425,
     "end_time": "2023-08-06T04:03:36.565291",
     "exception": false,
     "start_time": "2023-08-06T04:03:36.541866",
     "status": "completed"
    },
    "tags": []
   },
   "outputs": [
    {
     "data": {
      "text/html": [
       "<div>\n",
       "<style scoped>\n",
       "    .dataframe tbody tr th:only-of-type {\n",
       "        vertical-align: middle;\n",
       "    }\n",
       "\n",
       "    .dataframe tbody tr th {\n",
       "        vertical-align: top;\n",
       "    }\n",
       "\n",
       "    .dataframe thead th {\n",
       "        text-align: right;\n",
       "    }\n",
       "</style>\n",
       "<table border=\"1\" class=\"dataframe\">\n",
       "  <thead>\n",
       "    <tr style=\"text-align: right;\">\n",
       "      <th></th>\n",
       "      <th>ID_LAT_LON_YEAR_WEEK</th>\n",
       "      <th>emission</th>\n",
       "    </tr>\n",
       "  </thead>\n",
       "  <tbody>\n",
       "    <tr>\n",
       "      <th>0</th>\n",
       "      <td>ID_-0.510_29.290_2022_00</td>\n",
       "      <td>4915.003959</td>\n",
       "    </tr>\n",
       "    <tr>\n",
       "      <th>1</th>\n",
       "      <td>ID_-0.510_29.290_2022_01</td>\n",
       "      <td>4928.661148</td>\n",
       "    </tr>\n",
       "    <tr>\n",
       "      <th>2</th>\n",
       "      <td>ID_-0.510_29.290_2022_02</td>\n",
       "      <td>4918.344542</td>\n",
       "    </tr>\n",
       "    <tr>\n",
       "      <th>3</th>\n",
       "      <td>ID_-0.510_29.290_2022_03</td>\n",
       "      <td>4917.699991</td>\n",
       "    </tr>\n",
       "    <tr>\n",
       "      <th>4</th>\n",
       "      <td>ID_-0.510_29.290_2022_04</td>\n",
       "      <td>4948.515723</td>\n",
       "    </tr>\n",
       "    <tr>\n",
       "      <th>...</th>\n",
       "      <td>...</td>\n",
       "      <td>...</td>\n",
       "    </tr>\n",
       "    <tr>\n",
       "      <th>24348</th>\n",
       "      <td>ID_-3.299_30.301_2022_44</td>\n",
       "      <td>4964.215163</td>\n",
       "    </tr>\n",
       "    <tr>\n",
       "      <th>24349</th>\n",
       "      <td>ID_-3.299_30.301_2022_45</td>\n",
       "      <td>4948.733539</td>\n",
       "    </tr>\n",
       "    <tr>\n",
       "      <th>24350</th>\n",
       "      <td>ID_-3.299_30.301_2022_46</td>\n",
       "      <td>4964.133341</td>\n",
       "    </tr>\n",
       "    <tr>\n",
       "      <th>24351</th>\n",
       "      <td>ID_-3.299_30.301_2022_47</td>\n",
       "      <td>4977.557869</td>\n",
       "    </tr>\n",
       "    <tr>\n",
       "      <th>24352</th>\n",
       "      <td>ID_-3.299_30.301_2022_48</td>\n",
       "      <td>4967.417441</td>\n",
       "    </tr>\n",
       "  </tbody>\n",
       "</table>\n",
       "<p>24353 rows × 2 columns</p>\n",
       "</div>"
      ],
      "text/plain": [
       "           ID_LAT_LON_YEAR_WEEK     emission\n",
       "0      ID_-0.510_29.290_2022_00  4915.003959\n",
       "1      ID_-0.510_29.290_2022_01  4928.661148\n",
       "2      ID_-0.510_29.290_2022_02  4918.344542\n",
       "3      ID_-0.510_29.290_2022_03  4917.699991\n",
       "4      ID_-0.510_29.290_2022_04  4948.515723\n",
       "...                         ...          ...\n",
       "24348  ID_-3.299_30.301_2022_44  4964.215163\n",
       "24349  ID_-3.299_30.301_2022_45  4948.733539\n",
       "24350  ID_-3.299_30.301_2022_46  4964.133341\n",
       "24351  ID_-3.299_30.301_2022_47  4977.557869\n",
       "24352  ID_-3.299_30.301_2022_48  4967.417441\n",
       "\n",
       "[24353 rows x 2 columns]"
      ]
     },
     "execution_count": 26,
     "metadata": {},
     "output_type": "execute_result"
    }
   ],
   "source": [
    "submission_df"
   ]
  },
  {
   "cell_type": "code",
   "execution_count": 27,
   "id": "cda68908",
   "metadata": {
    "execution": {
     "iopub.execute_input": "2023-08-06T04:03:36.588532Z",
     "iopub.status.busy": "2023-08-06T04:03:36.588248Z",
     "iopub.status.idle": "2023-08-06T04:03:36.640826Z",
     "shell.execute_reply": "2023-08-06T04:03:36.639927Z"
    },
    "papermill": {
     "duration": 0.066352,
     "end_time": "2023-08-06T04:03:36.642707",
     "exception": false,
     "start_time": "2023-08-06T04:03:36.576355",
     "status": "completed"
    },
    "tags": []
   },
   "outputs": [],
   "source": [
    "submission_df.to_csv(\"submission.csv\", index=False)"
   ]
  },
  {
   "cell_type": "markdown",
   "id": "c381adc7",
   "metadata": {
    "papermill": {
     "duration": 0.010775,
     "end_time": "2023-08-06T04:03:36.665155",
     "exception": false,
     "start_time": "2023-08-06T04:03:36.654380",
     "status": "completed"
    },
    "tags": []
   },
   "source": [
    "## XGBoost"
   ]
  },
  {
   "cell_type": "code",
   "execution_count": 28,
   "id": "da817933",
   "metadata": {
    "execution": {
     "iopub.execute_input": "2023-08-06T04:03:36.687880Z",
     "iopub.status.busy": "2023-08-06T04:03:36.687582Z",
     "iopub.status.idle": "2023-08-06T04:03:36.690948Z",
     "shell.execute_reply": "2023-08-06T04:03:36.690172Z"
    },
    "papermill": {
     "duration": 0.016538,
     "end_time": "2023-08-06T04:03:36.692448",
     "exception": false,
     "start_time": "2023-08-06T04:03:36.675910",
     "status": "completed"
    },
    "tags": []
   },
   "outputs": [],
   "source": [
    "# from xgboost import XGBModel"
   ]
  },
  {
   "cell_type": "code",
   "execution_count": 29,
   "id": "5faf233a",
   "metadata": {
    "execution": {
     "iopub.execute_input": "2023-08-06T04:03:36.715058Z",
     "iopub.status.busy": "2023-08-06T04:03:36.714757Z",
     "iopub.status.idle": "2023-08-06T04:03:36.718048Z",
     "shell.execute_reply": "2023-08-06T04:03:36.717289Z"
    },
    "papermill": {
     "duration": 0.016303,
     "end_time": "2023-08-06T04:03:36.719485",
     "exception": false,
     "start_time": "2023-08-06T04:03:36.703182",
     "status": "completed"
    },
    "tags": []
   },
   "outputs": [],
   "source": [
    "# xgb_model = XGBModel()"
   ]
  },
  {
   "cell_type": "code",
   "execution_count": 30,
   "id": "4894d8cb",
   "metadata": {
    "execution": {
     "iopub.execute_input": "2023-08-06T04:03:36.742056Z",
     "iopub.status.busy": "2023-08-06T04:03:36.741758Z",
     "iopub.status.idle": "2023-08-06T04:03:36.744723Z",
     "shell.execute_reply": "2023-08-06T04:03:36.744173Z"
    },
    "papermill": {
     "duration": 0.016539,
     "end_time": "2023-08-06T04:03:36.746779",
     "exception": false,
     "start_time": "2023-08-06T04:03:36.730240",
     "status": "completed"
    },
    "tags": []
   },
   "outputs": [],
   "source": [
    "# xgb_model.fit(X_train_std, y_train)"
   ]
  },
  {
   "cell_type": "code",
   "execution_count": 31,
   "id": "684ef2f8",
   "metadata": {
    "execution": {
     "iopub.execute_input": "2023-08-06T04:03:36.771536Z",
     "iopub.status.busy": "2023-08-06T04:03:36.771101Z",
     "iopub.status.idle": "2023-08-06T04:03:36.774044Z",
     "shell.execute_reply": "2023-08-06T04:03:36.773482Z"
    },
    "papermill": {
     "duration": 0.016766,
     "end_time": "2023-08-06T04:03:36.775527",
     "exception": false,
     "start_time": "2023-08-06T04:03:36.758761",
     "status": "completed"
    },
    "tags": []
   },
   "outputs": [],
   "source": [
    "# xgb_pred = xgb_model.predict(X_dev_std)"
   ]
  },
  {
   "cell_type": "code",
   "execution_count": 32,
   "id": "ff105acf",
   "metadata": {
    "execution": {
     "iopub.execute_input": "2023-08-06T04:03:36.799617Z",
     "iopub.status.busy": "2023-08-06T04:03:36.799182Z",
     "iopub.status.idle": "2023-08-06T04:03:36.802286Z",
     "shell.execute_reply": "2023-08-06T04:03:36.801717Z"
    },
    "papermill": {
     "duration": 0.016444,
     "end_time": "2023-08-06T04:03:36.803751",
     "exception": false,
     "start_time": "2023-08-06T04:03:36.787307",
     "status": "completed"
    },
    "tags": []
   },
   "outputs": [],
   "source": [
    "# rmse(xgb_pred, y_dev)"
   ]
  },
  {
   "cell_type": "code",
   "execution_count": null,
   "id": "ab47e7aa",
   "metadata": {
    "papermill": {
     "duration": 0.010654,
     "end_time": "2023-08-06T04:03:36.826767",
     "exception": false,
     "start_time": "2023-08-06T04:03:36.816113",
     "status": "completed"
    },
    "tags": []
   },
   "outputs": [],
   "source": []
  }
 ],
 "metadata": {
  "kernelspec": {
   "display_name": "Python 3",
   "language": "python",
   "name": "python3"
  },
  "language_info": {
   "codemirror_mode": {
    "name": "ipython",
    "version": 3
   },
   "file_extension": ".py",
   "mimetype": "text/x-python",
   "name": "python",
   "nbconvert_exporter": "python",
   "pygments_lexer": "ipython3",
   "version": "3.10.12"
  },
  "papermill": {
   "default_parameters": {},
   "duration": 14.859624,
   "end_time": "2023-08-06T04:03:37.657192",
   "environment_variables": {},
   "exception": null,
   "input_path": "__notebook__.ipynb",
   "output_path": "__notebook__.ipynb",
   "parameters": {},
   "start_time": "2023-08-06T04:03:22.797568",
   "version": "2.4.0"
  }
 },
 "nbformat": 4,
 "nbformat_minor": 5
}
